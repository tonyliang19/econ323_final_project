{
 "cells": [
  {
   "cell_type": "markdown",
   "id": "a028c846-e33d-4839-b554-0ce4c78f4a1d",
   "metadata": {
    "tags": []
   },
   "source": [
    "**Group Members:** Tony Liang (004), Wanxin luo (003), Xuan Chen (004)\n",
    "\n",
    "**Student Numbers:** 39356993, 33432808, 15734643\n",
    "\n",
    "\n",
    "ECON 323 Quantitative Economic Modelling with Data Science Applications UBC 2023"
   ]
  },
  {
   "cell_type": "markdown",
   "id": "a67fb6f8-bfdd-4817-a220-599c2a2d2d5d",
   "metadata": {},
   "source": [
    "# Boston Housing Price Prediction Proposal"
   ]
  },
  {
   "cell_type": "markdown",
   "id": "cbee480b-3072-4d76-b7aa-c32eb9b9a8f6",
   "metadata": {},
   "source": [
    "## Introduction\n",
    "In this project, we aim to **explore the impact of environmental factors on housing prices** using the [Boston Housing dataset](https://www.kaggle.com/datasets/fedesoriano/the-boston-houseprice-data.). This dataset contains information on various attributes such as crime rate, average number of rooms, accessibility to highways, and more, which are hypothesized to influence housing prices. The project will involve several parts, including data cleaning, visualization, and model building. Our objective is to conduct exploratory data analysis (EDA) and then build a hedonic regression model with multiple inputs. We will utilize various Python techniques learned in this course to explore the real world data and solve economic questions.\n",
    "\n",
    "By analyzing the data, we aim to answer economic questions related to the housing market and explore the real-world application of Python techniques. It is important to note that the dataset has its limitations as it was collected almost 50 years ago, but it still provides an excellent opportunity for us to apply our Python skills and gain insights of housing market."
   ]
  },
  {
   "cell_type": "markdown",
   "id": "b1f33ad8-1d26-4fee-bef7-da08aec438f9",
   "metadata": {},
   "source": [
    "### Dataset Description"
   ]
  },
  {
   "cell_type": "markdown",
   "id": "8e018202-c9b9-4f9c-ba64-ba7f8167765a",
   "metadata": {
    "tags": []
   },
   "source": [
    "The Boston Housing Dataset is a derived from information collected by the U.S. Census Service concerning housing in the area of Boston, MA. The following describes the dataset columns:\n",
    "\n",
    "- `CRIM` - per capita crime rate by town\n",
    "- `ZN` - proportion of residential land zoned for lots over 25,000 sq.ft.\n",
    "- `INDUS` - proportion of non-retail business acres per town.\n",
    "- `CHAS` - Charles River dummy variable (1 if tract bounds river; 0 otherwise)\n",
    "- `NOX` - nitric oxides concentration (parts per 10 million)\n",
    "- `RM` - average number of rooms per dwelling\n",
    "- `AGE` - proportion of owner-occupied units built prior to 1940\n",
    "- `DIS` - weighted distances to five Boston employment centres\n",
    "- `RAD` - index of accessibility to radial highways\n",
    "- `TAX` - full-value property-tax rate per $10,000$\n",
    "- `PTRATIO` - pupil-teacher ratio by town\n",
    "- $B - 1000(Bk - 0.63)^2$ where $B_k$ is the proportion of blacks by town\n",
    "- `LSTAT` - $%$ lower status of the population\n",
    "- `MEDV` - Median value of owner-occupied homes in $1000$'s\n",
    "\n",
    "The dataset is derived from https://www.kaggle.com/datasets/fedesoriano/the-boston-houseprice-data."
   ]
  },
  {
   "cell_type": "markdown",
   "id": "9ac5dc5e-e263-48ce-84e7-250773a1e413",
   "metadata": {},
   "source": [
    "## Methods"
   ]
  },
  {
   "cell_type": "markdown",
   "id": "af89eb50-575a-4ad2-81d6-cdb95409b0c0",
   "metadata": {},
   "source": [
    "This report strives to be trustworthy using the following steps: \n",
    "\n",
    "1. [Data cleaning](#data-cleaning)\n",
    "2. [Thorough EDA](#eda)\n",
    "3. [Building multiple linear regression model](#model-fitting)\n",
    "\n",
    "**Note**: this could be subjected to changes later after feedback from the ECON323 Instrutor's team\n"
   ]
  },
  {
   "cell_type": "markdown",
   "id": "28983d56-2612-4c74-9436-f007e440bf20",
   "metadata": {},
   "source": [
    "### Data Cleaning\n",
    "\n",
    "For the data cleaning step, we will check and handle the missing values in the dataset. We will also identify categorical and continuous variables. For instance, the `CHAS` variable is a dummy variable indicating whether the tract bounds the Charles River or not, and is encoded as 0 or 1. Moreover, perform any special treatments toward outliers depending on the method that will be carried in the [model fitting phase](#model-fitting)."
   ]
  },
  {
   "cell_type": "markdown",
   "id": "4880d72c-e5ed-4150-af2d-85ec545002f7",
   "metadata": {},
   "source": [
    "### EDA\n",
    "\n",
    "During the EDA phrase, we will conduct a thorough examination of the Boston Housing dataset. One of the key steps is to generate a correlation matrix, which can help us identify any potential issues related to multicollinearity between the independent variables. In addition, we will use side-by-side box plots to visualize the distributions of the continuous variables and detect any potential outliers or anomalies. Moreover, we will leverage other data visualization techniques, such as scatter plots and histograms, to better understand the relationships between the variables and explore potential trends or patterns in the data. Overall, the goal of EDA is to gain insights into the data and inform our subsequent modelling steps. "
   ]
  },
  {
   "cell_type": "markdown",
   "id": "b9c4af49-52be-4db5-b16d-632b4767f616",
   "metadata": {},
   "source": [
    "### Model Fitting\n",
    "\n",
    "In the model fitting phase, we will split the Boston Housing dataset into training and testing sets. We will then use the training set to select the relevant variables and build our final multiple linear regression model. The selection process can involve various techniques, such as stepwise regression or regularization, depending on the specific requirements of the project. Once we have the final model, we will use the testing set to evaluate its performance in terms of mean squared error (`MSE`). The goal is to ensure that the model can generalize well to new, unseen data and make accurate predictions. "
   ]
  },
  {
   "cell_type": "markdown",
   "id": "2b931189-4ff9-4364-b9e7-6f80bfd6c0d7",
   "metadata": {
    "tags": []
   },
   "source": [
    "## Division of Labor\n",
    "Based on the previous discussions, the team has divided the responsibilities as follows:\n",
    "\n",
    "- Tony: Coding\n",
    "- Wanxin: Coding and some textual descriptions\n",
    "- Xuan: Written section of the report\n",
    "\n",
    "However, the team may make adjustments to the division of labor as needed during the project to ensure that all tasks are completed efficiently and effectively. Effective communication and collaboration within the team will be critical to ensure that everyone is working together towards the same goal."
   ]
  },
  {
   "cell_type": "markdown",
   "id": "6f4b5b37-1f71-4450-a8b7-bcf375b0932f",
   "metadata": {},
   "source": [
    "## References\n",
    "\n",
    "Vishal, V. (2017, October 27). Boston Housing Dataset. Kaggle. Retrieved March 14, 2023, from https://www.kaggle.com/datasets/altavish/boston-housing-dataset "
   ]
  }
 ],
 "metadata": {
  "kernelspec": {
   "display_name": "Python [conda env:econ323]",
   "language": "python",
   "name": "conda-env-econ323-py"
  },
  "language_info": {
   "codemirror_mode": {
    "name": "ipython",
    "version": 3
   },
   "file_extension": ".py",
   "mimetype": "text/x-python",
   "name": "python",
   "nbconvert_exporter": "python",
   "pygments_lexer": "ipython3",
   "version": "3.11.0"
  }
 },
 "nbformat": 4,
 "nbformat_minor": 5
}
