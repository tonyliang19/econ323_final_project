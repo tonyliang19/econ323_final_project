{
 "cells": [
  {
   "cell_type": "code",
   "execution_count": 1,
   "id": "5d3225b1-ca2b-4496-97ed-e7ed9629ae8e",
   "metadata": {},
   "outputs": [],
   "source": [
    "from src.handle_data import split_data\n",
    "from src.modelling import fit_model\n",
    "from src.handle_data import merge_data\n",
    "import numpy as np\n",
    "from sklearn.model_selection import cross_val_score\n",
    "from sklearn.linear_model import Lasso\n",
    "from src.handle_data import preprocess_data\n",
    "from sklearn.compose import make_column_transformer\n",
    "from sklearn.pipeline import make_pipeline\n",
    "from sklearn.preprocessing import StandardScaler\n",
    "from sklearn.impute import SimpleImputer\n",
    "import pandas as pd"
   ]
  },
  {
   "cell_type": "code",
   "execution_count": 2,
   "id": "7664b462-05d0-4cf9-914c-fc2479b7a92a",
   "metadata": {},
   "outputs": [],
   "source": [
    "data_path = \"data/boston_housing_data.csv\"\n",
    "# use same random_state across all parts to ensure reproducibility\n",
    "random_state = 20230325\n",
    "\n",
    "# Splits the data into X and y train and test portions\n",
    "X_train, X_test, y_train, y_test = split_data(data_path, proportion = 0.75, target = \"MEDV\", random_state=random_state)"
   ]
  },
  {
   "cell_type": "code",
   "execution_count": 3,
   "id": "f35b5a67-71ff-4e49-8c38-33b76a55f4ff",
   "metadata": {},
   "outputs": [],
   "source": [
    "alphas_range = np.exp(np.linspace(15, -5, 200))\n",
    "def optimize_lasso(alphas_range):    \n",
    "    metrics = ['neg_root_mean_squared_error', 'neg_mean_squared_error', 'neg_mean_absolute_percentage_error']\n",
    "    result = {metric: [] for metric in metrics}\n",
    "    \n",
    "    grids = {metric: alphas_range for metric in metrics}\n",
    "    preprocessor = preprocess_data(X_train)\n",
    "    for metric, alphas in grids.items():\n",
    "        for a in alphas:\n",
    "            mod = make_pipeline(preprocessor, Lasso(alpha=a))\n",
    "            cv_result = cross_val_score(mod, X_train, y_train, cv=5, scoring=metric)\n",
    "            result[metric].append(-1 * cv_result.mean())\n",
    "    result[\"alpha\"] = alphas_range\n",
    "    out = pd.DataFrame(result).rename(columns=lambda s: s.replace(\"neg_\", \"\")).sort_values(by=[\"root_mean_squared_error\", \"mean_absolute_percentage_error\"])\n",
    "    return out      "
   ]
  },
  {
   "cell_type": "code",
   "execution_count": 4,
   "id": "8acbc178-93d1-4406-b3df-8277b0374daa",
   "metadata": {},
   "outputs": [],
   "source": [
    "out = optimize_lasso(alphas_range=alphas_range)"
   ]
  },
  {
   "cell_type": "code",
   "execution_count": 5,
   "id": "c8df7090-2763-4d7f-83dd-c03dd41a17de",
   "metadata": {},
   "outputs": [
    {
     "data": {
      "text/html": [
       "<div>\n",
       "<style scoped>\n",
       "    .dataframe tbody tr th:only-of-type {\n",
       "        vertical-align: middle;\n",
       "    }\n",
       "\n",
       "    .dataframe tbody tr th {\n",
       "        vertical-align: top;\n",
       "    }\n",
       "\n",
       "    .dataframe thead th {\n",
       "        text-align: right;\n",
       "    }\n",
       "</style>\n",
       "<table border=\"1\" class=\"dataframe\">\n",
       "  <thead>\n",
       "    <tr style=\"text-align: right;\">\n",
       "      <th></th>\n",
       "      <th>root_mean_squared_error</th>\n",
       "      <th>mean_squared_error</th>\n",
       "      <th>mean_absolute_percentage_error</th>\n",
       "      <th>alpha</th>\n",
       "    </tr>\n",
       "  </thead>\n",
       "  <tbody>\n",
       "    <tr>\n",
       "      <th>185</th>\n",
       "      <td>4.649109</td>\n",
       "      <td>22.25651</td>\n",
       "      <td>0.165758</td>\n",
       "      <td>0.027517</td>\n",
       "    </tr>\n",
       "  </tbody>\n",
       "</table>\n",
       "</div>"
      ],
      "text/plain": [
       "     root_mean_squared_error  mean_squared_error  \\\n",
       "185                 4.649109            22.25651   \n",
       "\n",
       "     mean_absolute_percentage_error     alpha  \n",
       "185                        0.165758  0.027517  "
      ]
     },
     "execution_count": 5,
     "metadata": {},
     "output_type": "execute_result"
    }
   ],
   "source": [
    "out.head(1)"
   ]
  },
  {
   "cell_type": "code",
   "execution_count": 6,
   "id": "b0d3ed35-ec96-48f9-841d-27f970a2a9a0",
   "metadata": {},
   "outputs": [
    {
     "data": {
      "text/html": [
       "<div>\n",
       "<style scoped>\n",
       "    .dataframe tbody tr th:only-of-type {\n",
       "        vertical-align: middle;\n",
       "    }\n",
       "\n",
       "    .dataframe tbody tr th {\n",
       "        vertical-align: top;\n",
       "    }\n",
       "\n",
       "    .dataframe thead th {\n",
       "        text-align: right;\n",
       "    }\n",
       "</style>\n",
       "<table border=\"1\" class=\"dataframe\">\n",
       "  <thead>\n",
       "    <tr style=\"text-align: right;\">\n",
       "      <th></th>\n",
       "      <th>root_mean_squared_error</th>\n",
       "      <th>mean_squared_error</th>\n",
       "      <th>mean_absolute_percentage_error</th>\n",
       "      <th>alpha</th>\n",
       "    </tr>\n",
       "  </thead>\n",
       "  <tbody>\n",
       "    <tr>\n",
       "      <th>143</th>\n",
       "      <td>5.431409</td>\n",
       "      <td>29.906345</td>\n",
       "      <td>0.207002</td>\n",
       "      <td>1.874123</td>\n",
       "    </tr>\n",
       "  </tbody>\n",
       "</table>\n",
       "</div>"
      ],
      "text/plain": [
       "     root_mean_squared_error  mean_squared_error  \\\n",
       "143                 5.431409           29.906345   \n",
       "\n",
       "     mean_absolute_percentage_error     alpha  \n",
       "143                        0.207002  1.874123  "
      ]
     },
     "execution_count": 6,
     "metadata": {},
     "output_type": "execute_result"
    }
   ],
   "source": [
    "out.query(\"alpha > 1 & root_mean_squared_error < 6 & mean_squared_error < 30\").tail(1)"
   ]
  },
  {
   "cell_type": "code",
   "execution_count": 7,
   "id": "66337d07-be48-4c01-8e7a-cc3dc0f59477",
   "metadata": {},
   "outputs": [],
   "source": [
    "def lasso_coeff(alpha):\n",
    "    coeffs = Lasso(alpha=alpha).fit(X_train, y_train).coef_\n",
    "    out = pd.DataFrame(coeffs, \n",
    "              index=X_train.columns, \n",
    "              columns=[\"Coefficients\"])\n",
    "    return out"
   ]
  },
  {
   "cell_type": "code",
   "execution_count": 8,
   "id": "410311be-c97d-452e-b356-ace15a71a8c1",
   "metadata": {},
   "outputs": [],
   "source": [
    "mo = lasso_coeff(alpha=0.027517)"
   ]
  },
  {
   "cell_type": "code",
   "execution_count": 9,
   "id": "e0a72335-212d-4260-a8d7-2aae44e5aa1f",
   "metadata": {},
   "outputs": [
    {
     "data": {
      "text/plain": [
       "CRIM      -0.103664\n",
       "ZN         0.054449\n",
       "INDUS      0.011923\n",
       "CHAS       2.377299\n",
       "NOX       -9.771399\n",
       "RM         3.195303\n",
       "AGE       -0.004238\n",
       "DIS       -1.219419\n",
       "RAD        0.307551\n",
       "TAX       -0.015716\n",
       "PTRATIO   -0.727845\n",
       "B          0.008159\n",
       "LSTAT     -0.485616\n",
       "Name: Coefficients, dtype: float64"
      ]
     },
     "execution_count": 9,
     "metadata": {},
     "output_type": "execute_result"
    }
   ],
   "source": [
    "mo.Coefficients"
   ]
  }
 ],
 "metadata": {
  "kernelspec": {
   "display_name": "Python [conda env:econ323]",
   "language": "python",
   "name": "conda-env-econ323-py"
  },
  "language_info": {
   "codemirror_mode": {
    "name": "ipython",
    "version": 3
   },
   "file_extension": ".py",
   "mimetype": "text/x-python",
   "name": "python",
   "nbconvert_exporter": "python",
   "pygments_lexer": "ipython3",
   "version": "3.11.0"
  }
 },
 "nbformat": 4,
 "nbformat_minor": 5
}
