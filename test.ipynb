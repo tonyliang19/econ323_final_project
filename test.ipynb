{
 "cells": [
  {
   "cell_type": "code",
   "execution_count": 2,
   "id": "5d3225b1-ca2b-4496-97ed-e7ed9629ae8e",
   "metadata": {},
   "outputs": [],
   "source": [
    "from src.handle_data import split_data"
   ]
  },
  {
   "cell_type": "code",
   "execution_count": 3,
   "id": "7664b462-05d0-4cf9-914c-fc2479b7a92a",
   "metadata": {},
   "outputs": [],
   "source": [
    "data_path = \"data/boston_housing_data.csv\"\n",
    "# use same random_state across all parts to ensure reproducibility\n",
    "random_state = 20230325\n",
    "\n",
    "# Splits the data into X and y train and test portions\n",
    "X_train, X_test, y_train, y_test = split_data(data_path, proportion = 0.75, target = \"MEDV\", random_state=random_state)"
   ]
  }
 ],
 "metadata": {
  "kernelspec": {
   "display_name": "Python [conda env:econ323]",
   "language": "python",
   "name": "conda-env-econ323-py"
  },
  "language_info": {
   "codemirror_mode": {
    "name": "ipython",
    "version": 3
   },
   "file_extension": ".py",
   "mimetype": "text/x-python",
   "name": "python",
   "nbconvert_exporter": "python",
   "pygments_lexer": "ipython3",
   "version": "3.11.0"
  }
 },
 "nbformat": 4,
 "nbformat_minor": 5
}
